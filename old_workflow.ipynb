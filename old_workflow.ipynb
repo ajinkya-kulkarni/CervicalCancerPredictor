{
 "cells": [
  {
   "cell_type": "code",
   "execution_count": null,
   "id": "2977c3ef",
   "metadata": {},
   "outputs": [],
   "source": [
    "import numpy as np\n",
    "\n",
    "from tqdm.notebook import tqdm"
   ]
  },
  {
   "cell_type": "code",
   "execution_count": null,
   "id": "548095bb",
   "metadata": {},
   "outputs": [],
   "source": [
    "import os\n",
    "\n",
    "import matplotlib.pyplot as plt\n",
    "plt.rcParams.update({'font.size': 10})\n",
    "# %config InlineBackend.figure_format='retina'"
   ]
  },
  {
   "cell_type": "code",
   "execution_count": null,
   "id": "6c3bdae0",
   "metadata": {},
   "outputs": [],
   "source": [
    "os.environ['TF_CPP_MIN_LOG_LEVEL'] = '2'"
   ]
  },
  {
   "cell_type": "code",
   "execution_count": null,
   "id": "229fa03e",
   "metadata": {},
   "outputs": [],
   "source": [
    "import sys\n",
    "# Don't generate the __pycache__ folder locally\n",
    "sys.dont_write_bytecode = True \n",
    "# Print exception without the buit-in python warning\n",
    "sys.tracebacklimit = 0 "
   ]
  },
  {
   "cell_type": "code",
   "execution_count": null,
   "id": "e073387a",
   "metadata": {},
   "outputs": [],
   "source": [
    "from tensorflow.keras.utils import to_categorical\n",
    "\n",
    "from sklearn.model_selection import train_test_split\n",
    "from sklearn.metrics import accuracy_score, precision_score, recall_score, f1_score, confusion_matrix\n",
    "from sklearn.preprocessing import LabelEncoder"
   ]
  },
  {
   "cell_type": "code",
   "execution_count": null,
   "id": "5681f2dc",
   "metadata": {},
   "outputs": [],
   "source": [
    "from modules import *"
   ]
  },
  {
   "cell_type": "code",
   "execution_count": null,
   "id": "dae1c7f3",
   "metadata": {},
   "outputs": [],
   "source": [
    "# Parameters\n",
    "\n",
    "folder_paths = ['./group_1', './group_2', './group_3']\n",
    "\n",
    "batch_size = 8\n",
    "\n",
    "epochs = 100\n",
    "\n",
    "learning_rate = 1e-5\n",
    "\n",
    "img_size = (64, 64)\n",
    "\n",
    "n_augmentations = 24\n",
    "\n",
    "split_percentage = 0.1"
   ]
  },
  {
   "cell_type": "code",
   "execution_count": null,
   "id": "91ef0577",
   "metadata": {},
   "outputs": [],
   "source": [
    "# Preprocess images and convert labels to integers\n",
    "\n",
    "original_images, original_labels = preprocess_images(folder_paths, img_size)"
   ]
  },
  {
   "cell_type": "code",
   "execution_count": null,
   "id": "b06815c0",
   "metadata": {},
   "outputs": [],
   "source": [
    "# Split data into training and testing sets, and convert labels to one-hot encoding\n",
    "\n",
    "X_train, X_test, y_train, y_test = train_test_split(original_images, original_labels, \n",
    "                                                            test_size=split_percentage, random_state=42)"
   ]
  },
  {
   "cell_type": "code",
   "execution_count": null,
   "id": "73978dfd",
   "metadata": {},
   "outputs": [],
   "source": [
    "# Convert string labels to numerical labels\n",
    "\n",
    "label_encoder = LabelEncoder()\n",
    "\n",
    "y_train = label_encoder.fit_transform(y_train)"
   ]
  },
  {
   "cell_type": "code",
   "execution_count": null,
   "id": "c82ab6f2",
   "metadata": {},
   "outputs": [],
   "source": [
    "# Convert labels to one-hot encoding\n",
    "\n",
    "num_classes = len(np.unique(original_labels))\n",
    "\n",
    "y_train = to_categorical(y_train, num_classes)\n",
    "y_test = to_categorical(label_encoder.transform(y_test), num_classes)"
   ]
  },
  {
   "cell_type": "code",
   "execution_count": null,
   "id": "537e7049",
   "metadata": {},
   "outputs": [],
   "source": [
    "# Perform augmentations on X_train data\n",
    "\n",
    "X_train_final, y_train_final = augment_images(X_train, y_train, n_augmentations)"
   ]
  },
  {
   "cell_type": "code",
   "execution_count": null,
   "id": "040d148a",
   "metadata": {},
   "outputs": [],
   "source": [
    "# Plot and verify/show that augmentations are indeed correct. Plot some random augmentations. \n",
    "\n",
    "show_random_augmentation(X_train, X_train_final, n_augmentations)"
   ]
  },
  {
   "cell_type": "code",
   "execution_count": null,
   "id": "182380cf",
   "metadata": {},
   "outputs": [],
   "source": [
    "# input_shape = X_train.shape[1:]\n",
    "# model = create_model(input_shape, num_classes, learning_rate)\n",
    "\n",
    "model = new_model(X_train_final, learning_rate, regularization = True)"
   ]
  },
  {
   "cell_type": "code",
   "execution_count": null,
   "id": "590bb5eb",
   "metadata": {},
   "outputs": [],
   "source": [
    "# # Print the model summary\n",
    "\n",
    "# model.summary()"
   ]
  },
  {
   "cell_type": "code",
   "execution_count": null,
   "id": "6f18ac18",
   "metadata": {},
   "outputs": [],
   "source": [
    "train_acc_list = []\n",
    "val_acc_list = []\n",
    "train_loss_list = []\n",
    "val_loss_list = []\n",
    "\n",
    "with tqdm(total=epochs) as pbar:\n",
    "    for epoch in range(epochs):\n",
    "        \n",
    "        history = model.fit(X_train_final, y_train_final, batch_size=batch_size, \n",
    "                            epochs=1, verbose=0, \n",
    "                            validation_data=(X_test, y_test))\n",
    "\n",
    "        train_acc = history.history['accuracy'][0]\n",
    "        val_acc = history.history['val_accuracy'][0]\n",
    "        train_loss = history.history['loss'][0]\n",
    "        val_loss = history.history['val_loss'][0]\n",
    "\n",
    "        train_acc_list.append(train_acc)\n",
    "        val_acc_list.append(val_acc)\n",
    "        train_loss_list.append(train_loss)\n",
    "        val_loss_list.append(val_loss)\n",
    "\n",
    "        pbar.set_description(f'Train Acc: {train_acc:.4f}, Val Acc: {val_acc:.4f}')\n",
    "\n",
    "        pbar.update(1)"
   ]
  },
  {
   "cell_type": "code",
   "execution_count": null,
   "id": "77a6473c",
   "metadata": {},
   "outputs": [],
   "source": [
    "# Generate predictions for the test data\n",
    "\n",
    "y_pred = model.predict(X_test)\n",
    "\n",
    "# Convert predictions to labels\n",
    "\n",
    "y_pred_labels = np.argmax(y_pred, axis=1)\n",
    "\n",
    "y_true_labels = np.argmax(y_test, axis=1)"
   ]
  },
  {
   "cell_type": "code",
   "execution_count": null,
   "id": "45aa7b4d",
   "metadata": {},
   "outputs": [],
   "source": [
    "# Create a figure with two subplots\n",
    "fig, axs = plt.subplots(1, 2, figsize=(10, 4), dpi = 300)\n",
    "\n",
    "# Plot training and validation accuracy over epochs\n",
    "axs[0].plot(train_acc_list, linewidth=2)\n",
    "axs[0].plot(val_acc_list, linewidth=2)\n",
    "axs[0].set_title('Model Accuracy')\n",
    "axs[0].set_xlabel('Epoch')\n",
    "axs[0].set_ylabel('Accuracy')\n",
    "axs[0].legend(['train', 'validation'], loc='best')\n",
    "\n",
    "# Plot training and validation loss over epochs\n",
    "axs[1].plot(train_loss_list, linewidth=2)\n",
    "axs[1].plot(val_loss_list, linewidth=2)\n",
    "axs[1].set_title('Model Loss')\n",
    "axs[1].set_xlabel('Epoch')\n",
    "axs[1].set_ylabel('Loss')\n",
    "axs[1].legend(['train', 'validation'], loc='best')\n",
    "\n",
    "# Save and close the plot\n",
    "plt.savefig('ModelPerformance.pdf', bbox_inches = 'tight')\n",
    "plt.close()"
   ]
  },
  {
   "cell_type": "code",
   "execution_count": null,
   "id": "9c11e6e5",
   "metadata": {},
   "outputs": [],
   "source": [
    "# Define class dictionary\n",
    "class_dict = {0: 'group_1', 1: 'group_2', 2: 'group_3'}"
   ]
  },
  {
   "cell_type": "code",
   "execution_count": null,
   "id": "6bfc6cbf",
   "metadata": {},
   "outputs": [],
   "source": [
    "# Generate confusion matrix\n",
    "cm = confusion_matrix(y_true_labels, y_pred_labels, normalize='true')\n",
    "\n",
    "# Plot confusion matrix\n",
    "fig, ax = plt.subplots()\n",
    "im = ax.imshow(cm, cmap = 'Blues', interpolation = 'None')\n",
    "\n",
    "ax.set_xticks(np.arange(num_classes))\n",
    "ax.set_yticks(np.arange(num_classes))\n",
    "\n",
    "ax.set_xticklabels(class_dict.keys())\n",
    "ax.set_yticklabels(class_dict.keys())\n",
    "\n",
    "ax.set_xlabel('Predicted Class')\n",
    "ax.set_ylabel('True Class')\n",
    "\n",
    "ax.set_title('Confusion Matrix')\n",
    "\n",
    "for i in range(num_classes):\n",
    "    for j in range(num_classes):\n",
    "        text = ax.text(j, i, format(cm[i, j], '.2f'),\n",
    "                       ha=\"center\", va=\"center\", color=\"white\" if cm[i, j] > 0.5 else \"black\")\n",
    "\n",
    "plt.colorbar(im)\n",
    "\n",
    "# Save and close the plot\n",
    "plt.savefig('ConfusionMatrix.pdf', bbox_inches = 'tight')\n",
    "plt.close()"
   ]
  },
  {
   "cell_type": "code",
   "execution_count": null,
   "id": "e02c0320",
   "metadata": {},
   "outputs": [],
   "source": [
    "# Evaluate the model on the test data\n",
    "score = model.evaluate(X_test, y_test, verbose=0)\n",
    "\n",
    "# Make predictions on the test data\n",
    "y_pred = model.predict(X_test)\n",
    "\n",
    "# Convert predictions from probabilities to labels\n",
    "y_pred_labels = np.argmax(y_pred, axis=1)\n",
    "y_true_labels = np.argmax(y_test, axis=1)\n",
    "\n",
    "# Calculate performance metrics\n",
    "accuracy = accuracy_score(y_true_labels, y_pred_labels)\n",
    "precision = precision_score(y_true_labels, y_pred_labels, average='weighted')\n",
    "recall = recall_score(y_true_labels, y_pred_labels, average='weighted')\n",
    "f1 = f1_score(y_true_labels, y_pred_labels, average='weighted')\n",
    "cm = confusion_matrix(y_true_labels, y_pred_labels)\n",
    "\n",
    "# Print performance metrics\n",
    "print()\n",
    "print(f'Test accuracy: {accuracy:.3f}')\n",
    "print(f'Test precision: {precision:.3f}')\n",
    "print(f'Test recall: {recall:.3f}')\n",
    "print(f'Test F1-score: {f1:.3f}')\n",
    "print()\n",
    "print(f'Test confusion matrix:\\n{cm}')\n",
    "print()"
   ]
  },
  {
   "cell_type": "code",
   "execution_count": null,
   "id": "80f5455a",
   "metadata": {},
   "outputs": [],
   "source": []
  }
 ],
 "metadata": {
  "kernelspec": {
   "display_name": "Python 3 (ipykernel)",
   "language": "python",
   "name": "python3"
  },
  "language_info": {
   "codemirror_mode": {
    "name": "ipython",
    "version": 3
   },
   "file_extension": ".py",
   "mimetype": "text/x-python",
   "name": "python",
   "nbconvert_exporter": "python",
   "pygments_lexer": "ipython3",
   "version": "3.10.9"
  }
 },
 "nbformat": 4,
 "nbformat_minor": 5
}
