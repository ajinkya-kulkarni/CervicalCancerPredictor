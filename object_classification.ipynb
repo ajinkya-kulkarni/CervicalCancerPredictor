{
 "cells": [
  {
   "cell_type": "code",
   "execution_count": 1,
   "metadata": {
    "colab": {
     "base_uri": "https://localhost:8080/"
    },
    "id": "BMxvJ1EiBMYW",
    "outputId": "8f36a92c-6182-42e0-92d2-7a545015a82f"
   },
   "outputs": [
    {
     "name": "stdout",
     "output_type": "stream",
     "text": [
      "[Errno 2] No such file or directory: '/content/drive/My Drive/Colab Notebooks/'\n",
      "/Users/ajinkyakulkarni/Desktop/kaggle_task\n"
     ]
    }
   ],
   "source": [
    "%cd /content/drive/My Drive/Colab Notebooks/"
   ]
  },
  {
   "cell_type": "code",
   "execution_count": 2,
   "metadata": {
    "id": "1am24pXDD_jt"
   },
   "outputs": [
    {
     "name": "stderr",
     "output_type": "stream",
     "text": [
      "2023-03-16 15:12:51.372937: I tensorflow/core/platform/cpu_feature_guard.cc:193] This TensorFlow binary is optimized with oneAPI Deep Neural Network Library (oneDNN) to use the following CPU instructions in performance-critical operations:  AVX2 FMA\n",
      "To enable them in other operations, rebuild TensorFlow with the appropriate compiler flags.\n",
      "\n",
      "KeyboardInterrupt\n",
      "\n"
     ]
    }
   ],
   "source": [
    "import os\n",
    "import numpy as np\n",
    "import matplotlib.pyplot as plt\n",
    "from tqdm import tqdm \n",
    "import cv2\n",
    "from keras.utils.np_utils import to_categorical"
   ]
  },
  {
   "cell_type": "code",
   "execution_count": null,
   "metadata": {
    "colab": {
     "base_uri": "https://localhost:8080/"
    },
    "id": "8eZfhjMaEeay",
    "outputId": "2d1e612f-6727-43b3-bb3b-3d43ae4e2dee"
   },
   "outputs": [],
   "source": [
    "data_dir = '/content/drive/My Drive/Colab Notebooks/SamplesDebasis'\n",
    "categories = os.listdir(data_dir)\n",
    "print(categories)"
   ]
  },
  {
   "cell_type": "code",
   "execution_count": null,
   "metadata": {
    "colab": {
     "base_uri": "https://localhost:8080/",
     "height": 1000
    },
    "id": "3U_VGqx4H6ka",
    "outputId": "29f76435-671c-4a8b-e608-2f8041f2ed68"
   },
   "outputs": [],
   "source": [
    "for category in categories:\n",
    "  category_path = os.path.join(data_dir, category)\n",
    "  samples = os.listdir(category_path)\n",
    "  for sample in samples:\n",
    "    img = cv2.imread(os.path.join(category_path, sample))\n",
    "    img = cv2.cvtColor(img, cv2.COLOR_BGR2RGB)\n",
    "    img = cv2.resize(img, (128,128))\n",
    "    img = img/255\n",
    "    plt.imshow(img)\n",
    "    plt.title(category)\n",
    "    plt.show()\n",
    "    break"
   ]
  },
  {
   "cell_type": "code",
   "execution_count": null,
   "metadata": {
    "colab": {
     "base_uri": "https://localhost:8080/"
    },
    "id": "fYIzIYBASlAy",
    "outputId": "5acb8891-2d78-4212-8c11-53dc0de50e7d"
   },
   "outputs": [],
   "source": [
    "data = []\n",
    "label = [] \n",
    "for category in categories:\n",
    "  category_path = os.path.join(data_dir, category)\n",
    "  samples = os.listdir(category_path)\n",
    "  for sample in tqdm(samples):\n",
    "    img = cv2.imread(os.path.join(category_path, sample))\n",
    "    img = cv2.cvtColor(img, cv2.COLOR_BGR2RGB)\n",
    "    img = cv2.resize(img, (128,128))\n",
    "    img = img/255\n",
    "\n",
    "    data.append(img)\n",
    "    label.append(categories.index(category)) \n",
    "\n",
    "data = np.asarray(data)\n",
    "label = np.asarray(label)\n",
    "label = to_categorical(label, num_classes=4)\n",
    "\n"
   ]
  },
  {
   "cell_type": "code",
   "execution_count": null,
   "metadata": {
    "id": "w8doNvd8XbXO"
   },
   "outputs": [],
   "source": [
    "from sklearn.utils import shuffle"
   ]
  },
  {
   "cell_type": "code",
   "execution_count": null,
   "metadata": {
    "id": "2-cwMcILXiS7"
   },
   "outputs": [],
   "source": [
    "X_train, y_train = shuffle(data, label, random_state=3)"
   ]
  },
  {
   "cell_type": "code",
   "execution_count": null,
   "metadata": {
    "colab": {
     "base_uri": "https://localhost:8080/"
    },
    "id": "VmZc7EdrS9yV",
    "outputId": "7af9ca1b-f6fb-46aa-9f79-02f26147c5c4"
   },
   "outputs": [],
   "source": [
    "# specify version of tensorflow\n",
    "#%tensorflow_version 1.x\n",
    "%tensorflow_version 2.x\n",
    "import tensorflow as tf\n",
    "print(tf.__version__)"
   ]
  },
  {
   "cell_type": "code",
   "execution_count": null,
   "metadata": {
    "colab": {
     "base_uri": "https://localhost:8080/"
    },
    "id": "H5xqNIIIXoyd",
    "outputId": "936eb5fa-daae-462c-fecd-2783b4fdaa3c"
   },
   "outputs": [],
   "source": [
    "model = tf.keras.models.Sequential()\n",
    "model.add(tf.keras.layers.Conv2D(8, (3, 3), padding='same', activation='relu', input_shape=X_train.shape[1:]))\n",
    "model.add(tf.keras.layers.BatchNormalization())\n",
    "model.add(tf.keras.layers.MaxPooling2D(pool_size=(2, 2)))\n",
    "\n",
    "model.add(tf.keras.layers.Conv2D(16, (3, 3), padding='same', activation='relu'))\n",
    "model.add(tf.keras.layers.BatchNormalization())\n",
    "model.add(tf.keras.layers.MaxPooling2D(pool_size=(2, 2)))\n",
    "\n",
    "model.add(tf.keras.layers.Conv2D(32, (3, 3), padding='same', activation='relu'))\n",
    "model.add(tf.keras.layers.BatchNormalization())\n",
    "model.add(tf.keras.layers.MaxPooling2D(pool_size=(2, 2)))\n",
    "\n",
    "\n",
    "# FC layer\n",
    "model.add(tf.keras.layers.Flatten())\n",
    "model.add(tf.keras.layers.Dense(32, activation='relu'))\n",
    "model.add(tf.keras.layers.Dropout(rate = 0.3))\n",
    "model.add(tf.keras.layers.Dense(16, activation='relu'))\n",
    "model.add(tf.keras.layers.Dropout(rate = 0.3))\n",
    "model.add(tf.keras.layers.Dense(4, activation='softmax'))\n",
    "\n",
    "model.compile(loss='categorical_crossentropy', optimizer = 'adam', metrics=['accuracy'])\n",
    "model.summary()"
   ]
  },
  {
   "cell_type": "code",
   "execution_count": null,
   "metadata": {
    "colab": {
     "base_uri": "https://localhost:8080/"
    },
    "id": "pD_ER2awX1Gb",
    "outputId": "4b838fdd-46fe-44b6-8ea1-b23ab756ac1a"
   },
   "outputs": [],
   "source": [
    "hist = model.fit(X_train, y_train, batch_size=16,\n",
    "                        epochs=50, verbose=1,\n",
    "                        validation_split=0.2)"
   ]
  },
  {
   "cell_type": "code",
   "execution_count": null,
   "metadata": {
    "colab": {
     "base_uri": "https://localhost:8080/",
     "height": 545
    },
    "id": "2MwXgMTPda5m",
    "outputId": "fe8c1c18-afaf-4129-98a3-ec91ab77714b"
   },
   "outputs": [],
   "source": [
    "# Display models statistics\n",
    "loss = hist.history['loss']\n",
    "val_loss = hist.history['val_loss']\n",
    "acc = hist.history['accuracy']\n",
    "val_acc = hist.history['val_accuracy']\n",
    "epochsr = range(50)\n",
    "plt.figure()\n",
    "plt.plot(epochsr, loss, 'bo', label='Training loss')\n",
    "plt.plot(epochsr, val_loss, 'b', label='Validation loss')\n",
    "plt.title('Training and validation loss')\n",
    "plt.legend()\n",
    "plt.show()\n",
    "plt.figure()\n",
    "plt.plot(epochsr, acc, 'bo', label='Training acc')\n",
    "plt.plot(epochsr, val_acc, 'b', label='Validation acc')\n",
    "plt.title('Accuracy')\n",
    "plt.legend()\n",
    "plt.show()\n",
    "mymodel = hist.model"
   ]
  },
  {
   "cell_type": "code",
   "execution_count": null,
   "metadata": {
    "id": "gk2dfbiIX21r"
   },
   "outputs": [],
   "source": []
  }
 ],
 "metadata": {
  "colab": {
   "provenance": []
  },
  "kernelspec": {
   "display_name": "Python 3 (ipykernel)",
   "language": "python",
   "name": "python3"
  },
  "language_info": {
   "codemirror_mode": {
    "name": "ipython",
    "version": 3
   },
   "file_extension": ".py",
   "mimetype": "text/x-python",
   "name": "python",
   "nbconvert_exporter": "python",
   "pygments_lexer": "ipython3",
   "version": "3.10.9"
  }
 },
 "nbformat": 4,
 "nbformat_minor": 1
}
